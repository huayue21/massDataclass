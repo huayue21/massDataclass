{
 "cells": [
  {
   "cell_type": "code",
   "execution_count": 2,
   "metadata": {
    "collapsed": false
   },
   "outputs": [],
   "source": [
    "import pandas as pd\n",
    "import numpy as np\n",
    "import matplotlib.pyplot as plt"
   ]
  },
  {
   "cell_type": "code",
   "execution_count": 62,
   "metadata": {
    "collapsed": true
   },
   "outputs": [],
   "source": [
    "row = range(5)\n",
    "S1 = [1,0,0,1,0]\n",
    "S2 = [0,0,1,0,0]\n",
    "S3 = [0,1,0,1,1]\n",
    "S4 = [1,0,1,1,0]\n",
    "h1 = [(x+1) % 5 for x in row]\n",
    "h2 = [(3*x+1) %5 for x in row]\n",
    "h3 = [(2*x+4) %5 for x in row]\n",
    "h4 = [(3*x-1) %5 for x in row]\n",
    "mydf = pd.DataFrame({'Row':pd.Series(row),\n",
    "                     'S1':pd.Series(S1),\n",
    "                     'S2':pd.Series(S2),\n",
    "                     'S3':pd.Series(S3),\n",
    "                     'S4':pd.Series(S4),\n",
    "                     'h1':pd.Series(h1),\n",
    "                     'h2':pd.Series(h2),\n",
    "                     'h3':pd.Series(h3),\n",
    "                     'h4':pd.Series(h4)})"
   ]
  },
  {
   "cell_type": "code",
   "execution_count": 63,
   "metadata": {
    "collapsed": false
   },
   "outputs": [
    {
     "name": "stdout",
     "output_type": "stream",
     "text": [
      " Row  S1  S2  S3  S4  h1  h2  h3  h4\n",
      "   0   1   0   0   1   1   1   4   4\n",
      "   1   0   0   1   0   2   4   1   2\n",
      "   2   0   1   0   1   3   2   3   0\n",
      "   3   1   0   1   1   4   0   0   3\n",
      "   4   0   0   1   0   0   3   2   1\n"
     ]
    }
   ],
   "source": [
    "print mydf.to_string(index=False)"
   ]
  },
  {
   "cell_type": "code",
   "execution_count": 64,
   "metadata": {
    "collapsed": false
   },
   "outputs": [
    {
     "name": "stdout",
     "output_type": "stream",
     "text": [
      " Row  h1  h2  h3  h4\n",
      "   0   1   1   4   4\n",
      "   3   4   0   0   3 \n",
      "------------\n",
      "\t[1, 0, 0, 3]\n"
     ]
    }
   ],
   "source": [
    "def minhash(df,colname):\n",
    "    S_df = df.loc[df[colname]==1,['Row','h1','h2','h3','h4']]\n",
    "    S_minhash = list(S_df.min())[1:]\n",
    "    return S_df,S_minhash\n",
    "\n",
    "S1_df,S1_minhash = minhash(mydf,'S1')\n",
    "print S1_df.to_string(index=False),\"\\n------------\\n\\t\",S1_minhash"
   ]
  },
  {
   "cell_type": "code",
   "execution_count": 65,
   "metadata": {
    "collapsed": false
   },
   "outputs": [
    {
     "name": "stdout",
     "output_type": "stream",
     "text": [
      " Row  h1  h2  h3  h4\n",
      "   2   3   2   3   0 \n",
      "------------\n",
      "\t[3, 2, 3, 0]\n"
     ]
    }
   ],
   "source": [
    "S2_df,S2_minhash = minhash(mydf,'S2')\n",
    "print S2_df.to_string(index=False),\"\\n------------\\n\\t\",S2_minhash"
   ]
  },
  {
   "cell_type": "code",
   "execution_count": 66,
   "metadata": {
    "collapsed": false
   },
   "outputs": [
    {
     "name": "stdout",
     "output_type": "stream",
     "text": [
      " Row  h1  h2  h3  h4\n",
      "   1   2   4   1   2\n",
      "   3   4   0   0   3\n",
      "   4   0   3   2   1 \n",
      "------------\n",
      "\t[0, 0, 0, 1]\n"
     ]
    }
   ],
   "source": [
    "S3_df,S3_minhash = minhash(mydf,'S3')\n",
    "print S3_df.to_string(index=False),\"\\n------------\\n\\t\",S3_minhash"
   ]
  },
  {
   "cell_type": "code",
   "execution_count": 67,
   "metadata": {
    "collapsed": false
   },
   "outputs": [
    {
     "name": "stdout",
     "output_type": "stream",
     "text": [
      " Row  h1  h2  h3  h4\n",
      "   0   1   1   4   4\n",
      "   2   3   2   3   0\n",
      "   3   4   0   0   3 \n",
      "------------\n",
      "\t[1, 0, 0, 0]\n"
     ]
    }
   ],
   "source": [
    "S4_df,S4_minhash = minhash(mydf,'S4')\n",
    "print S4_df.to_string(index=False),\"\\n------------\\n\\t\",S4_minhash"
   ]
  },
  {
   "cell_type": "code",
   "execution_count": 69,
   "metadata": {
    "collapsed": false
   },
   "outputs": [
    {
     "data": {
      "text/html": [
       "<div>\n",
       "<table border=\"1\" class=\"dataframe\">\n",
       "  <thead>\n",
       "    <tr style=\"text-align: right;\">\n",
       "      <th></th>\n",
       "      <th></th>\n",
       "      <th>S1</th>\n",
       "      <th>S2</th>\n",
       "      <th>S3</th>\n",
       "      <th>S4</th>\n",
       "    </tr>\n",
       "  </thead>\n",
       "  <tbody>\n",
       "    <tr>\n",
       "      <th>0</th>\n",
       "      <td>mh1</td>\n",
       "      <td>1</td>\n",
       "      <td>3</td>\n",
       "      <td>0</td>\n",
       "      <td>1</td>\n",
       "    </tr>\n",
       "    <tr>\n",
       "      <th>1</th>\n",
       "      <td>mh2</td>\n",
       "      <td>0</td>\n",
       "      <td>2</td>\n",
       "      <td>0</td>\n",
       "      <td>0</td>\n",
       "    </tr>\n",
       "    <tr>\n",
       "      <th>2</th>\n",
       "      <td>mh3</td>\n",
       "      <td>0</td>\n",
       "      <td>3</td>\n",
       "      <td>0</td>\n",
       "      <td>0</td>\n",
       "    </tr>\n",
       "    <tr>\n",
       "      <th>3</th>\n",
       "      <td>mh4</td>\n",
       "      <td>3</td>\n",
       "      <td>0</td>\n",
       "      <td>1</td>\n",
       "      <td>0</td>\n",
       "    </tr>\n",
       "  </tbody>\n",
       "</table>\n",
       "</div>"
      ],
      "text/plain": [
       "        S1  S2  S3  S4\n",
       "0  mh1   1   3   0   1\n",
       "1  mh2   0   2   0   0\n",
       "2  mh3   0   3   0   0\n",
       "3  mh4   3   0   1   0"
      ]
     },
     "execution_count": 69,
     "metadata": {},
     "output_type": "execute_result"
    }
   ],
   "source": [
    "minhash_df = pd.DataFrame({'':pd.Series(['mh1','mh2','mh3','mh4']),\n",
    "                     'S1':pd.Series(S1_minhash),\n",
    "                     'S2':pd.Series(S2_minhash),\n",
    "                     'S3':pd.Series(S3_minhash),\n",
    "                     'S4':pd.Series(S4_minhash)})\n",
    "minhash_df"
   ]
  },
  {
   "cell_type": "markdown",
   "metadata": {},
   "source": [
    "We can see that SIM($S_1$,$S_2$)=3/4"
   ]
  },
  {
   "cell_type": "code",
   "execution_count": null,
   "metadata": {
    "collapsed": true
   },
   "outputs": [],
   "source": []
  }
 ],
 "metadata": {
  "kernelspec": {
   "display_name": "Python 2",
   "language": "python",
   "name": "python2"
  },
  "language_info": {
   "codemirror_mode": {
    "name": "ipython",
    "version": 2
   },
   "file_extension": ".py",
   "mimetype": "text/x-python",
   "name": "python",
   "nbconvert_exporter": "python",
   "pygments_lexer": "ipython2",
   "version": "2.7.10"
  }
 },
 "nbformat": 4,
 "nbformat_minor": 0
}
